{
 "cells": [
  {
   "cell_type": "markdown",
   "metadata": {},
   "source": [
    "# Tutorial 01\n",
    "\n"
   ]
  },
  {
   "cell_type": "markdown",
   "metadata": {},
   "source": [
    "## Get Python to show the **context/concordance** of a word in some text."
   ]
  },
  {
   "cell_type": "code",
   "execution_count": 1,
   "metadata": {
    "collapsed": false
   },
   "outputs": [
    {
     "name": "stdout",
     "output_type": "stream",
     "text": [
      "*** Introductory Examples for the NLTK Book ***\n",
      "Loading text1, ..., text9 and sent1, ..., sent9\n",
      "Type the name of the text or sentence to view it.\n",
      "Type: 'texts()' or 'sents()' to list the materials.\n",
      "text1: Moby Dick by Herman Melville 1851\n",
      "text2: Sense and Sensibility by Jane Austen 1811\n",
      "text3: The Book of Genesis\n",
      "text4: Inaugural Address Corpus\n",
      "text5: Chat Corpus\n",
      "text6: Monty Python and the Holy Grail\n",
      "text7: Wall Street Journal\n",
      "text8: Personals Corpus\n",
      "text9: The Man Who Was Thursday by G . K . Chesterton 1908\n",
      "Displaying 13 of 13 matches:\n",
      "want ? HEAD KNIGHT : We want ... a shrubbery ! [ dramatic chord ] ARTHUR : A wh\n",
      "ase ! No more ! We will find you a shrubbery . HEAD KNIGHT : You must return he\n",
      "IGHT : You must return here with a shrubbery or else you will never pass throug\n",
      "d fair , and we will return with a shrubbery . HEAD KNIGHT : One that looks nic\n",
      " in this town where we could buy a shrubbery ? [ dramatic chord ] OLD CRONE : W\n",
      " do not tell us where we can buy a shrubbery , my friend and I will say ... we \n",
      "s of Ni , we have brought you your shrubbery . May we go now ? HEAD KNIGHT : It\n",
      "o now ? HEAD KNIGHT : It is a good shrubbery . I like the laurels particularly \n",
      "irstly , you must find ... another shrubbery ! [ dramatic chord ] ARTHUR : Not \n",
      "matic chord ] ARTHUR : Not another shrubbery ! RANDOM : Ni ! HEAD KNIGHT : Then\n",
      "T : Then , when you have found the shrubbery , you must place it here beside th\n",
      "you must place it here beside this shrubbery , only slightly higher so you get \n",
      "T : Then , when you have found the shrubbery , you must cut down the mightiest \n"
     ]
    }
   ],
   "source": [
    "from nltk.book import *\n",
    "text6.concordance(\"shrubbery\")"
   ]
  },
  {
   "cell_type": "markdown",
   "metadata": {
    "collapsed": true
   },
   "source": [
    "## Print an alphabetically sorted list of all words from *Monty Python and the Holy Grail* that consist entirely of capital letters and that are **more than 5 characters long**"
   ]
  },
  {
   "cell_type": "code",
   "execution_count": 10,
   "metadata": {
    "collapsed": false
   },
   "outputs": [
    {
     "name": "stdout",
     "output_type": "stream",
     "text": [
      "AMAZING\n",
      "ANIMATOR\n",
      "ARTHUR\n",
      "BEDEVERE\n",
      "BRIDGEKEEPER\n",
      "BROTHER\n",
      "CAMERAMAN\n",
      "CARTOON\n",
      "CHARACTER\n",
      "CHARACTERS\n"
     ]
    }
   ],
   "source": [
    "def printLongerThan5Chars(text):\n",
    "    V = set(text)\n",
    "    capitals = [w for w in V if len(w) > 5 and w.isupper()]\n",
    "    result = sorted(capitals)\n",
    "    for word in result[:10]:\n",
    "        print(word)\n",
    "        \n",
    "printLongerThan5Chars(text6)"
   ]
  },
  {
   "cell_type": "markdown",
   "metadata": {},
   "source": [
    "## Find collocations in \"Sense & Sensibility\" (**text2**)"
   ]
  },
  {
   "cell_type": "code",
   "execution_count": 3,
   "metadata": {
    "collapsed": false
   },
   "outputs": [
    {
     "name": "stdout",
     "output_type": "stream",
     "text": [
      "Colonel Brandon; Sir John; Lady Middleton; Miss Dashwood; every thing;\n",
      "thousand pounds; dare say; Miss Steeles; said Elinor; Miss Steele;\n",
      "every body; John Dashwood; great deal; Harley Street; Berkeley Street;\n",
      "Miss Dashwoods; young man; Combe Magna; every day; next morning\n"
     ]
    }
   ],
   "source": [
    "text2.collocations()"
   ]
  },
  {
   "cell_type": "markdown",
   "metadata": {},
   "source": [
    "## Explain the REGEX:\n",
    "* [A-Za-z]+ : words that consist only alphabets."
   ]
  },
  {
   "cell_type": "code",
   "execution_count": 4,
   "metadata": {
    "collapsed": false
   },
   "outputs": [
    {
     "name": "stdout",
     "output_type": "stream",
     "text": [
      "{hello} {world} 123{this}!!\n"
     ]
    }
   ],
   "source": [
    "from nltk import re_show\n",
    "re_show(\"[A-Za-z]+\", \"hello world 123this!!\")"
   ]
  },
  {
   "cell_type": "markdown",
   "metadata": {},
   "source": [
    "   * [A-Z][a-z]* : word that consist of two letters or more with Title format(e.g. Am, Little)"
   ]
  },
  {
   "cell_type": "code",
   "execution_count": 5,
   "metadata": {
    "collapsed": false
   },
   "outputs": [
    {
     "name": "stdout",
     "output_type": "stream",
     "text": [
      "{Am} {I} right, {Little} man?\n"
     ]
    }
   ],
   "source": [
    "re_show(\"[A-Z][a-z]*\", \"Am I right, Little man?\")"
   ]
  },
  {
   "cell_type": "markdown",
   "metadata": {},
   "source": [
    "* \\d+(\\.\\d+)? : numbers: decimals..."
   ]
  },
  {
   "cell_type": "code",
   "execution_count": 6,
   "metadata": {
    "collapsed": false
   },
   "outputs": [
    {
     "name": "stdout",
     "output_type": "stream",
     "text": [
      "It costed me {99.99} munnies. {990.7}, {888898.9898037}. {9999.9999}.{888} won't get selected though:\n"
     ]
    }
   ],
   "source": [
    "re_show(\"\\d+(.\\d+)?\", \"It costed me 99.99 munnies. 990.7, 888898.9898037. 9999.9999.888 won't get selected though:\")"
   ]
  },
  {
   "cell_type": "markdown",
   "metadata": {},
   "source": [
    "* p[aeiou]{,2}t: p + vocal repeated for 0 to 2 times  + t"
   ]
  },
  {
   "cell_type": "code",
   "execution_count": 7,
   "metadata": {
    "collapsed": false
   },
   "outputs": [
    {
     "name": "stdout",
     "output_type": "stream",
     "text": [
      "{put} {pet} {poot} piiuoinit\n"
     ]
    }
   ],
   "source": [
    "re_show(\"p[aeiou]{,2}t\", \"put pet poot piiuoinit\")"
   ]
  },
  {
   "cell_type": "markdown",
   "metadata": {},
   "source": [
    "##  A regular expression for the set of strings over alphabet {a,b} such that every a is preceded and immediately followed by b"
   ]
  },
  {
   "cell_type": "code",
   "execution_count": 8,
   "metadata": {
    "collapsed": false
   },
   "outputs": [
    {
     "name": "stdout",
     "output_type": "stream",
     "text": [
      "f{ab}ulous, seriously.. I am faaa{ababababab}lous\n"
     ]
    }
   ],
   "source": [
    "re_show(\"([a][b])+\", \"fabulous, seriously.. I am faaaababababablous\")"
   ]
  },
  {
   "cell_type": "markdown",
   "metadata": {},
   "source": [
    "## Convert to regex:\n",
    "\n",
    "<img src=\"img/regex_01.png\"/>\n",
    "\n",
    "* (a(b|ba))+"
   ]
  },
  {
   "cell_type": "code",
   "execution_count": 9,
   "metadata": {
    "collapsed": false
   },
   "outputs": [
    {
     "name": "stdout",
     "output_type": "stream",
     "text": [
      "{ab}a {ab} {abababababababab}a{ab}\n"
     ]
    }
   ],
   "source": [
    "re_show(\"([a]([b]|[b][a]))+\", \"aba ab ababababababababaab\")"
   ]
  }
 ],
 "metadata": {
  "anaconda-cloud": {},
  "kernelspec": {
   "display_name": "Python 3",
   "language": "python",
   "name": "python3"
  },
  "language_info": {
   "codemirror_mode": {
    "name": "ipython",
    "version": 3
   },
   "file_extension": ".py",
   "mimetype": "text/x-python",
   "name": "python",
   "nbconvert_exporter": "python",
   "pygments_lexer": "ipython3",
   "version": "3.5.2"
  }
 },
 "nbformat": 4,
 "nbformat_minor": 1
}
